{
 "cells": [
  {
   "cell_type": "markdown",
   "metadata": {},
   "source": [
    "<div>  \n",
    "<img src=\"title.jpg\", width =1000>\n",
    "<img src=\"5dc1833201bb8.jpg\", width =1000>\n",
    "<img src=\"name2.jpg\", width = 1000>\n",
    "</div>\n"
   ]
  },
  {
   "cell_type": "markdown",
   "metadata": {},
   "source": [
    "- Introduction\n",
    "- ANN\n",
    "  *  \n",
    "  * Types of ANN"
   ]
  },
  {
   "cell_type": "markdown",
   "metadata": {},
   "source": [
    "<div>\n",
    "<img src=\"deep-learning.jpg\", width = 1000/>\n",
    "</div>\n",
    "\n",
    "## What Is Deep Learning?\n",
    "by definition deep learning is an artificial intelligence (AI) function that imitates the workings of the human brain in processing data and creating patterns for use in decision making. Deep learning is a subset of machine learning in AI that deals with algorithms inspired by the structure and function of the brain called artificial neural networks which are capable of learning unsupervised from data that is unstructured/unlabeled.\n",
    "\n",
    "Deep learning algorithms are similar to the structure of the nervous system where neurons are connected to another and pass information to each other in the sense that deep learning algorithms work in layers and a typical model atleast have three layers. Each layer accepts the information from previous and pass it on to the next one."
   ]
  },
  {
   "cell_type": "markdown",
   "metadata": {},
   "source": [
    "## Comparison of Machine Learning and Deep Learning\n",
    "\n",
    "### 1. Data Dependencies\n",
    "Performance is the main key difference between both learning approaches.\n",
    "`Deep learning` algorithms perform a lot better compared to conventional machine learning algorithms as more data becomes available.\n",
    "\n",
    "\n",
    "<div>\n",
    "<img src=\"Deep-Learning-VS-Conventional-Algorithms.ppm\", width = 600/>\n",
    "</div>\n",
    "\n",
    "### 2. Hardware Dependencies\n",
    "Generally, Deep Learning depends on high-end machines while traditional learning depends on low-end machines. Thus, Deep Learning requirement includes GPUs. That is an integral part of it’s working. They also do a large amount of matrix multiplication operations.\n",
    "\n",
    "### 3. Problem Solving Approach\n",
    "Generally, we use the traditional algorithm to solve problems. However, it needs to break a problem into different parts to solve them individually. To get a result, combine them all.\n",
    "\n",
    "For Example:\n",
    "\n",
    "Let us suppose you have a task of multiple object detection. In this task, we have to identify what the object is and where is it present in the image. In a Machine Learning approach, we have to divide the problem into two steps:\n",
    "\n",
    "- object detection\n",
    "- object recognition\n",
    "\n",
    "First, we use the grabcut algorithm to skim through the image and find all the possible objects. Then, of all the recognized objects, you would use an object recognition algorithm like SVM with HOG to recognize relevant objects.\n",
    "\n",
    "### 4. Execution Time\n",
    "Usually, Deep Learning takes more time to train as compared to Machine Learning. The main reason is that there are so many parameters in a Deep Learning algorithm. Whereas Machine Learning takes much less time to train, ranging from a few seconds to a few hours.\n",
    "\n",
    "### 5. Interpretability\n",
    "We have interpretability as a factor for the comparison of both learning techniques. However, Deep Learning is still thought 10 times before its use in industry."
   ]
  },
  {
   "cell_type": "markdown",
   "metadata": {},
   "source": [
    "Now that we have looked into what deep learning is and compared it with machine learning, we can now turn our attention Neural Networks."
   ]
  },
  {
   "cell_type": "markdown",
   "metadata": {},
   "source": [
    "\n",
    "\n",
    "\n",
    "\n",
    "## Artificial Neural Network (ANN)?\n",
    "\n",
    "Deep Learning is used in layers to create an Artificial “Neural Network” that can learn and make intelligent decisions on its own.\n",
    "<div>\n",
    "<img src=\"1_Io_kQ3nkdwnHNG6RgJlIDQ.png\", width = 600/>\n",
    "</div>\n",
    "\n",
    "An artificial neural network (ANN) is the piece of a computing system designed to simulate the way the human brain analyzes and processes information. It is the foundation of artificial intelligence (AI) and solves problems that would prove impossible or difficult by human or statistical standards. ANNs have self-learning capabilities that enable them to produce better results as more data becomes available.\n",
    "\n",
    "\n",
    "\n",
    "**Defining a Neural Network**\n",
    "\n",
    "A neural network is structured like the human brain and consists of artificial neurons, also known as nodes. These nodes are stacked next to each other in three layers:\n",
    "\n",
    "- The input layer \n",
    "- The hidden layer(s)\n",
    "- The output layer\n",
    "<div>\n",
    "<img src=\"defining ANN.png\", width = 600/>\n",
    "</div>\n",
    "\n",
    "Data provides each node with information in the form of inputs. The node multiplies the inputs with random weights, calculates them, and adds a bias. Finally, nonlinear functions, also known as activation functions, are applied to determine which neuron to fire\n",
    "\n",
    "\n",
    "**A biological neuron in comparison to an artificial neural network**\n",
    "<div>\n",
    "<img src=\"A-biological-neuron-in-comparison-to-an-artificial-neural-network-a-human-neuron-b.png\", width = 600/>\n",
    "</div>\n",
    "\n",
    "                                    (a) human neuron                (b) artificial neuron\n",
    "\n",
    "                                    (c) biological synapse          (d) ANN synapses.\n",
    "                                    \n",
    "Biological neurons have dendrites to receive signals, a cell body to process them,\n",
    "and an axon/axon terminal to transfer signals out to other neurons. Similarly an artificial\n",
    "neuron has multiple input channels to accept training samples represented as a vector,\n",
    "and a processing stage where the weights(w) are adjusted such that the output error\n",
    "(actual vs. predicted) is minimized. Then the result is fed into an activation function\n",
    "to produce output, for example, a classification label. The activation function for a\n",
    "classification problem is a threshold cutoff (standard is .5) above which class is 1 else 0\n",
    "\n",
    "**Why are neural networks important?**\n",
    "\n",
    "Neural Networks can recognize hidden patterns and correlations in raw data, cluster and classify it, and – over time – continuously learn and improve.\n",
    "\n",
    "\n",
    "Neural networks are also ideally suited to help people solve complex problems in real-life situations. They can learn and model the relationships between inputs and outputs that are nonlinear and complex; make generalizations and inferences; reveal hidden relationships, patterns and predictions; and model highly volatile data (such as financial time series data) and variances needed to predict rare events (such as fraud detection). As a result, neural networks can improve decision processes in areas such as\n",
    "\n",
    "- Credit card and Medicare fraud detection.\n",
    "- Optimization of logistics for transportation networks.\n",
    "- Character and voice recognition, also known as natural language processing.\n",
    "- Medical and disease diagnosis.\n",
    "- Targeted marketing.\n",
    "- Financial predictions for stock prices, currency, options, futures, bankruptcy and bond ratings.\n",
    "- Robotic control systems\n",
    "- Electrical load and energy demand forecasting.\n",
    "- Process and quality control.\n",
    "- Chemical compound identification.\n",
    "- Ecosystem evaluation.\n",
    "- Computer vision to interpret raw photos and videos (for example, in medical imaging and robotics and facial recognition).\n",
    "\n",
    "**Deep Neural Networks**\n",
    "\n",
    "A deep neural network is a neural network with a certain level of complexity, a neural network with more than two layers. Deep neural networks use sophisticated mathematical modeling to process data in complex ways.\n",
    "\n",
    "\n",
    "<div>\n",
    "<img src=\"cover.png\", width = 600/>\n",
    "</div>"
   ]
  },
  {
   "cell_type": "markdown",
   "metadata": {},
   "source": [
    "# How Deep Learning Algorithms Work?\n",
    "\n",
    "While deep learning algorithms feature self-learning representations, they depend upon ANNs that mirror the way the brain computes information. During the training process, algorithms use unknown elements in the input distribution to extract features, group objects, and discover useful data patterns. Much like training machines for self-learning, this occurs at multiple levels, using the algorithms to build the models.\n",
    "\n",
    "Deep learning models make use of several algorithms. While no one network is considered perfect, some algorithms are better suited to perform specific tasks. To choose the right ones, it’s good to gain a solid understanding of all primary algorithms.\n"
   ]
  },
  {
   "cell_type": "markdown",
   "metadata": {},
   "source": [
    "## Types of Deep Learning Algorithms\n",
    "\n",
    "1. Convolutional Neural Networks (CNNs)\n",
    "2. Long Short Term Memory Networks (LSTMs)\n",
    "3. Recurrent Neural Networks (RNNs)\n",
    "4. Generative Adversarial Networks (GANs)\n",
    "5. Radial Basis Function Networks (RBFNs)\n",
    "6. Multilayer Perceptrons (MLPs)\n",
    "8. Self Organizing Maps (SOMs)\n",
    "9. Deep Belief Networks (DBNs)\n",
    "10. Restricted Boltzmann Machines( RBMs)\n",
    "11. Autoencoders\n",
    "12. Deep learning algorithms work with almost any kind of data and require large amounts of computing power and information to solve complicated issues.\n",
    "\n",
    "Before we deep-dive into the types of deep learning algorithms, Let's start buy buildig  simple Neural Network\n"
   ]
  },
  {
   "cell_type": "markdown",
   "metadata": {},
   "source": [
    "# Example 1. Sklearn Perceptron"
   ]
  },
  {
   "cell_type": "code",
   "execution_count": 8,
   "metadata": {},
   "outputs": [
    {
     "name": "stdout",
     "output_type": "stream",
     "text": [
      "Prediction: [0 1 0 0 0 0 0 0 1 1 1 0 0 1 1 1 0 1 1 1]\n",
      "Actual: [0 1 0 0 0 0 0 0 1 1 1 0 0 1 1 1 0 1 1 1]\n",
      "Accuracy: 100.0%\n"
     ]
    }
   ],
   "source": [
    "# import sklearn.linear_model.perceptron\n",
    "import warnings\n",
    "warnings.filterwarnings('ignore')\n",
    "from sklearn.linear_model import perceptron\n",
    "import matplotlib.pyplot as plt\n",
    "from matplotlib.colors import ListedColormap\n",
    "# Let's use sklearn make_classification function to create some test data.\n",
    "from sklearn.datasets import make_classification\n",
    "X, y = make_classification(20, 2, 2, 0, weights=[.5, .5], random_state=2021)\n",
    "\n",
    "# Create the model\n",
    "clf = perceptron.Perceptron(verbose=0, random_state=2017, fit_intercept=True, eta0=0.002)\n",
    "clf.fit(X,y)\n",
    "print(\"Prediction: \" + str(clf.predict(X)))\n",
    "print(\"Actual: \" + str(y))\n",
    "print(\"Accuracy: \" + str(clf.score(X, y)*100) + \"%\")"
   ]
  },
  {
   "cell_type": "code",
   "execution_count": 10,
   "metadata": {},
   "outputs": [
    {
     "name": "stdout",
     "output_type": "stream",
     "text": [
      "X1 Coefficient: -0.00025267927743280894\n",
      "X2 Coefficient: 0.006362739685363655\n",
      "Intercept: [-0.002]\n"
     ]
    }
   ],
   "source": [
    "# Output the values\n",
    "print(\"X1 Coefficient: \" + str(clf.coef_[0,0]))\n",
    "print(\"X2 Coefficient: \" + str(clf.coef_[0,1]))\n",
    "print(\"Intercept: \" + str(clf.intercept_))"
   ]
  },
  {
   "cell_type": "markdown",
   "metadata": {},
   "source": [
    "A drawback of the single perceptron approach is that it can only learn linearly\n",
    "separable functions"
   ]
  },
  {
   "cell_type": "markdown",
   "metadata": {},
   "source": [
    "## Multilayer Perceptrons (Feedforward Neural Network)\n",
    "\n",
    "To address the drawback of single perceptrons, multilayer perceptrons were proposed;\n",
    "also commonly known as a feedforward neural network, it is a composition of multiple\n",
    "perceptrons connected in different ways and operating on distinctive activation functions\n",
    "to enable improved learning mechanisms. The training sample propagates forward\n",
    "through the network and the output error is back propagated and the error is minimized\n",
    "using the gradient descent method, which will calculate a loss function for all the weights\n",
    "in the network\n",
    "\n",
    "\n",
    "\n",
    "<div>\n",
    "<img src=\"mlp.png\", width = 600/>\n",
    "</div>\n",
    "\n",
    "Let’s see an MLP algorithm in action from scikit-learn library on a classification\n",
    "problem. We’ll be using the digits dataset available as part of scikit-learn dataset, which\n",
    "is made up of 1797 samples (which is a subset of MNIST dataset) handwritten grayscale\n",
    "digit of 8x8 images"
   ]
  },
  {
   "cell_type": "code",
   "execution_count": 15,
   "metadata": {},
   "outputs": [],
   "source": [
    "# Imports\n",
    "import pandas as pd\n",
    "import numpy as np\n",
    "import matplotlib.pyplot as plt\n",
    "from sklearn.neural_network import MLPClassifier\n",
    "from sklearn.model_selection import train_test_split\n",
    "from sklearn.preprocessing import StandardScaler\n",
    "from sklearn.metrics import confusion_matrix\n",
    "from sklearn.datasets import load_digits\n",
    "np.random.seed(seed=2020)"
   ]
  },
  {
   "cell_type": "code",
   "execution_count": 16,
   "metadata": {},
   "outputs": [
    {
     "name": "stdout",
     "output_type": "stream",
     "text": [
      "We have 1797 samples\n"
     ]
    }
   ],
   "source": [
    "# load data\n",
    "digits = load_digits()\n",
    "print('We have %d samples'%len(digits.target))"
   ]
  },
  {
   "cell_type": "code",
   "execution_count": 18,
   "metadata": {},
   "outputs": [
    {
     "data": {
      "image/png": "[encoded data removed]",
      "text/plain": [
       "<Figure size 576x576 with 32 Axes>"
      ]
     },
     "metadata": {},
     "output_type": "display_data"
    }
   ],
   "source": [
    "## plot the first 32 samples to get a sense of the data\n",
    "fig = plt.figure(figsize = (8,8))\n",
    "fig.subplots_adjust(left=0, right=1, bottom=0, top=1, hspace=0.05,\n",
    "wspace=0.05)\n",
    "for i in range(32):\n",
    "    ax = fig.add_subplot(8, 8, i+1, xticks=[], yticks=[])\n",
    "    ax.imshow(digits.images[i], cmap=plt.cm.gray_r)\n",
    "    ax.text(0, 1, str(digits.target[i]), bbox=dict(facecolor='white'))"
   ]
  },
  {
   "cell_type": "markdown",
   "metadata": {},
   "source": [
    "### Key Parameters for scikit-learn MLP\n",
    "`hidden_layer_sizes` – You have to provide the number of hidden layers and neurons\n",
    "for each hidden layer. For example, hidden_layer_sizes – (5,3,3) means there are 3\n",
    "hidden layers and the number of neurons for layer 1 is 5, layer 2 is 3, and for layer 3 is 3\n",
    "respectively. The default value is (100,) that is, 1 hidden layer with 100 neurons.\n",
    "\n",
    "`Activation` – This is the activation function for hidden layer, and there are four\n",
    "activation functions available for use, default is ‘relu’.\n",
    "   - relu: The rectified linear unit function, returns f(x) = max(0, x).\n",
    "   - logistic: The logistic sigmoid function, returns f(x) = 1 / (1 + exp(-x)).\n",
    "   - identity: No-op activation, useful to implement linear bottleneck,\n",
    "returns f(x) = x.\n",
    "   - tanh: The hyperbolic tan function, returns f(x) = tanh(x).\n",
    "\n",
    "`solver` – This is for weight optimization’ there are three options available, the default\n",
    "being ‘adam’.\n",
    "   - adam: Stochastic gradient-based optimizer proposed by Kingma/\n",
    "Diederik/Jimmy Ba, which works well for large dataset.\n",
    "   - lbfgs: Belongs to family of quasi-Newton methods, works well for\n",
    "small datasets.\n",
    "   - sgd: Stochastic gradient descent.\n",
    "\n",
    "`max_iter` – This is the maximum number of iterations for solver to converge, default\n",
    "is 200.\n",
    "\n",
    "`learning_rate_init` – This is the initial learning rate to control step size for updating\n",
    "the weights (only applicable for solvers sgd/adam), default is 0.001.\n",
    "\n",
    "**Side Note :  It is recommended to scale or normalize your data before modeling as MLP is sensitive to\n",
    "feature scaling**\n",
    "\n",
    "\n",
    "\n",
    "<div>\n",
    "<img src=\"image-class.gif\", width = 1000/>\n",
    "</div>"
   ]
  },
  {
   "cell_type": "code",
   "execution_count": 28,
   "metadata": {},
   "outputs": [
    {
     "name": "stdout",
     "output_type": "stream",
     "text": [
      "Number of samples in training set: 1437\n",
      "Number of samples in test set: 360\n"
     ]
    },
    {
     "data": {
      "text/plain": [
       "MLPClassifier(activation='logistic', hidden_layer_sizes=100, max_iter=100)"
      ]
     },
     "execution_count": 28,
     "metadata": {},
     "output_type": "execute_result"
    }
   ],
   "source": [
    "# split data to training and testing data\n",
    "X_train, X_test, y_train, y_test = train_test_split(digits.data, digits.\n",
    "target, test_size=0.2, random_state=2017)\n",
    "print('Number of samples in training set: %d' %(len(y_train)))\n",
    "print('Number of samples in test set: %d' %(len(y_test)))\n",
    "# Standardise data, and fit only to the training data\n",
    "scaler = StandardScaler()\n",
    "scaler.fit(X_train)\n",
    "# Apply the transformations to the data\n",
    "X_train_scaled = scaler.transform(X_train)\n",
    "X_test_scaled = scaler.transform(X_test)\n",
    "# Initialize ANN classifier\n",
    "mlp = MLPClassifier(hidden_layer_sizes=(100), activation='logistic', max_iter = 100)\n",
    "# Train the classifier with the traning data\n",
    "mlp.fit(X_train_scaled,y_train)"
   ]
  },
  {
   "cell_type": "code",
   "execution_count": 29,
   "metadata": {},
   "outputs": [
    {
     "name": "stdout",
     "output_type": "stream",
     "text": [
      "Training set score: 0.990953\n",
      "Test set score: 0.986111\n"
     ]
    }
   ],
   "source": [
    "print(\"Training set score: %f\" % mlp.score(X_train_scaled, y_train))\n",
    "print(\"Test set score: %f\" % mlp.score(X_test_scaled, y_test))"
   ]
  },
  {
   "cell_type": "code",
   "execution_count": 30,
   "metadata": {},
   "outputs": [],
   "source": [
    "# predict results from the test data\n",
    "X_test_predicted = mlp.predict(X_test_scaled)"
   ]
  },
  {
   "cell_type": "code",
   "execution_count": 35,
   "metadata": {},
   "outputs": [
    {
     "data": {
      "image/png": "[encoded data removed]",
      "text/plain": [
       "<Figure size 576x576 with 32 Axes>"
      ]
     },
     "metadata": {},
     "output_type": "display_data"
    }
   ],
   "source": [
    "fig = plt.figure(figsize=(8, 8)) # figure size in inches\n",
    "fig.subplots_adjust(left=0, right=1, bottom=0, top=1, hspace=0.05,\n",
    "wspace=0.05)\n",
    "# plot the digits: each image is 8x8 pixels\n",
    "for i in range(32):\n",
    "    ax = fig.add_subplot(8, 8, i + 1, xticks=[], yticks=[])\n",
    "    ax.imshow(X_test.reshape(-1, 8, 8)[i], cmap=plt.cm.gray_r)\n",
    "# label the image with the target value\n",
    "if X_test_predicted[i] == y_test[i]:\n",
    "    ax.text(0, 1, X_test_predicted[i], color='green',\n",
    "    bbox=dict(facecolor='white'))\n",
    "else:\n",
    "    ax.text(0, 1, X_test_predicted[i], color='red',\n",
    "    bbox=dict(facecolor='white'))"
   ]
  },
  {
   "cell_type": "markdown",
   "metadata": {},
   "source": [
    "Let's now build our a simple neural network using some of the popularly known datasets"
   ]
  },
  {
   "cell_type": "markdown",
   "metadata": {},
   "source": [
    "## Simple Neural Networks using Keras \n",
    "Before we build a simple Neural Network let's first go over some litterature\n",
    "\n",
    "First let's get some import out of the way\n",
    "\n",
    "```Python\n",
    "from numpy import loadtxt\n",
    "from keras.models import Sequential\n",
    "from keras.layers import Dense\n",
    "# Load the data\n",
    "dataset = loadtxt('pima-indians-diabetes.csv', delimiter=',')\n",
    "# split into input (X) and output (y) variables\n",
    "X = dataset[:,0:8]\n",
    "y = dataset[:,8]\n",
    "```\n",
    "### 1. Define Keras Model\n",
    "Models in Keras are defined as a sequence of layers.\n",
    "\n",
    "We create a Sequential model and add layers one at a time until we are happy with our network architecture.\n",
    "The first thing to get right is to ensure the input layer has the right number of input features. This can be specified when creating the first layer with the input_dim argument and setting it to 8 for the 8 input variables.\n",
    "\n",
    "**How do we know the number of layers and their types?**\n",
    "\n",
    "This is a very hard question. There are heuristics that we can use and often the best network structure is found through a process of trial and error experimentation. Generally, you need a network large enough to capture the structure of the problem.\n",
    "\n",
    "In this example, we will use a fully-connected network structure with three layers.\n",
    "\n",
    "Fully connected layers are defined using the Dense class. We can specify the number of neurons or nodes in the layer as the first argument, and specify the activation function using the activation argument.\n",
    "\n",
    "We will use the rectified linear unit activation function referred to as ReLU on the first two layers and the Sigmoid function in the output layer.\n",
    "\n",
    "It used to be the case that Sigmoid and Tanh activation functions were preferred for all layers. These days, better performance is achieved using the ReLU activation function. We use a sigmoid on the output layer to ensure our network output is between 0 and 1 and easy to map to either a probability of class 1 or snap to a hard classification of either class with a default threshold of 0.5.\n",
    "\n",
    "We can piece it all together by adding each layer:\n",
    "\n",
    " - The model expects rows of data with 8 variables (the input_dim=8 argument)\n",
    " - The first hidden layer has 100 nodes and uses the relu activation function.\n",
    " - The second hidden layer has 50 nodes and uses the relu activation function.\n",
    " - The output layer has 1 node and uses the sigmoid activation function.\n",
    " \n",
    " ```Python\n",
    "# define the keras model\n",
    "model = Sequential()\n",
    "model.add(Dense(100, input_dim=8, activation='relu'))\n",
    "model.add(Dense(50, activation='relu'))\n",
    "model.add(Dense(1, activation='sigmoid'))\n",
    "```\n",
    "\n",
    "**Note:** The most confusing thing here is that the shape of the input to the model is defined as an argument on the first hidden layer. This means that the line of code that adds the first Dense layer is doing 2 things, defining the input or visible layer and the first hidden layer\n",
    "\n",
    "## 2. Compile Keras Model\n",
    "Now that the model is defined, we can compile it.\n",
    "\n",
    "Compiling the model uses the efficient numerical libraries under the covers (the so-called backend) such as Theano or TensorFlow. The backend automatically chooses the best way to represent the network for training and making predictions to run on your hardware, such as CPU or GPU or even distributed.\n",
    "\n",
    "When compiling, we must specify some additional properties required when training the network. Remember training a network means finding the best set of weights to map inputs to outputs in our dataset.\n",
    "\n",
    "We must specify the `loss function` to use to evaluate a set of weights, the `optimizer` is used to search through different weights for the network and any optional metrics we would like to collect and report during training.\n",
    "\n",
    "\n",
    "As part of the optimization algorithm, the error for the current state of the model must be estimated repeatedly. This requires the choice of an error function, conventionally called a loss function, that can be used to estimate the loss of the model so that the weights can be updated to reduce the loss on the next evaluation.\n",
    "\n",
    "Neural network models learn a mapping from inputs to outputs from examples and the choice of loss function must match the framing of the specific predictive modeling problem, such as classification or regression. Further, the configuration of the output layer must also be appropriate for the chosen loss function.\n",
    "\n",
    "**Some choices of the loss functions**\n",
    "1. Regression Loss Functions\n",
    "   - Mean Squared Error Loss\n",
    "   - Mean Squared Logarithmic Error Loss\n",
    "   - ean Absolute Error Loss\n",
    " \n",
    "2. Binary Classification Loss Functions\n",
    "   - Binary Cross-Entropy\n",
    "   - Hinge Loss\n",
    "   - Squared Hinge Loss\n",
    "   \n",
    "3. Multi-Class Classification Loss Functions\n",
    "   - Multi-Class Cross-Entropy Loss\n",
    "   - Sparse Multiclass Cross-Entropy Loss\n",
    "   - Kullback Leibler Divergence Loss\n",
    "\n",
    "for more information on loss functions you can read more [here](https://machinelearningmastery.com/how-to-choose-loss-functions-when-training-deep-learning-neural-networks/)\n",
    "and the `keras` documentation [keras](https://keras.io/api/losses/)\n",
    "\n",
    "In this case, we will use cross entropy as the loss argument. This loss is for a binary classification problems and is defined in Keras as `binary_crossentropy`.\n",
    "\n",
    "We will define the optimizer as the efficient stochastic gradient descent algorithm `adam`. This is a popular version of gradient descent because it automatically tunes itself and gives good results in a wide range of problems. To learn more about the Adam version of stochastic gradient descent see the this [post](https://machinelearningmastery.com/adam-optimization-algorithm-for-deep-learning/)\n",
    "\n",
    "Finally, because it is a classification problem, we will collect and report the classification accuracy, defined via the metrics argument.\n",
    "\n",
    "```Python\n",
    "# compile the keras model\n",
    "model.compile(loss='binary_crossentropy', optimizer='adam', metrics=['accuracy'])\n",
    "```\n",
    "\n",
    "## 3. Train Keras Model\n",
    "We have defined our model and compiled it ready for efficient computation.\n",
    "\n",
    "Now it is time to execute the model on some data.\n",
    "\n",
    "We can train or fit our model on our loaded data by calling the fit() function on the model.\n",
    "\n",
    "Training occurs over epochs and each epoch is split into batches.\n",
    "\n",
    "`Epoch`: One pass through all of the rows in the training dataset.\n",
    "\n",
    "`Batch`: One or more samples considered by the model within an epoch before weights are updated.\n",
    "One epoch is comprised of one or more batches, based on the chosen batch size and the model is fit for many epochs. For more on the difference between epochs and batches read [here](https://machinelearningmastery.com/difference-between-a-batch-and-an-epoch/)\n",
    "\n",
    "The training process will run for a fixed number of iterations through the dataset called epochs, that we must specify using the epochs argument. We must also set the number of dataset rows that are considered before the model weights are updated within each epoch, called the batch size and set using the batch_size argument.\n",
    "\n",
    "For this problem, we will run for a small number of epochs (150) and use a relatively small batch size of 10.\n",
    "\n",
    "These configurations can be chosen experimentally by trial and error. We want to train the model enough so that it learns a good (or good enough) mapping of rows of input data to the output classification. The model will always have some error, but the amount of error will level out after some point for a given model configuration. This is called model convergence.\n",
    "\n",
    "```Python\n",
    "# fit the keras model on the dataset\n",
    "model.fit(X, y, epochs=150, batch_size=10)\n",
    "```\n",
    "This is where the work happens on your CPU or GPU, however here no GPUs needed for this example\n",
    "\n",
    "\n",
    "## 4. Evaluate Keras Model\n",
    "We have trained our neural network on the entire dataset and we can evaluate the performance of the network on the same dataset.\n",
    "\n",
    "This will only give us an idea of how well we have modeled the dataset (e.g. train accuracy), but no idea of how well the algorithm might perform on new data. We have done this for simplicity, but ideally, you could separate your data into train and test datasets for training and evaluation of your model.\n",
    "\n",
    "You can evaluate your model on your training dataset using the evaluate() function on your model and pass it the same input and output used to train the model.\n",
    "\n",
    "This will generate a prediction for each input and output pair and collect scores, including the average loss and any metrics you have configured, such as accuracy.\n",
    "\n",
    "The evaluate() function will return a list with two values. The first will be the loss of the model on the dataset and the second will be the accuracy of the model on the dataset. We are only interested in reporting the accuracy, so we will ignore the loss value.\n",
    "\n",
    "```python\n",
    "# Evaluate the keras model\n",
    "_, accuracy = model.evaluate(X, y)\n",
    "print('Accuracy: %.2f' % (accuracy*100))\n",
    "```\n",
    "\n",
    "## 5. Tie It All Together\n",
    "We have just seen how we can easily create our first neural network model in Keras.\n",
    "\n",
    "Let’s tie it all together into a complete code example."
   ]
  },
  {
   "cell_type": "code",
   "execution_count": 41,
   "metadata": {},
   "outputs": [],
   "source": [
    "# import dependencies\n",
    "import tensorflow \n",
    "from tensorflow.keras.models import Sequential\n",
    "from tensorflow.keras.layers import Dense\n",
    "from tensorflow.keras import optimizers"
   ]
  },
  {
   "cell_type": "code",
   "execution_count": 43,
   "metadata": {},
   "outputs": [],
   "source": [
    "# load the dataset\n",
    "dataset = loadtxt('pima-indians-diabetes.csv', delimiter=',')\n",
    "# split into input (X) and output (y) variables\n",
    "X = dataset[:,0:8]\n",
    "y = dataset[:,8]"
   ]
  },
  {
   "cell_type": "code",
   "execution_count": 44,
   "metadata": {},
   "outputs": [],
   "source": [
    "# define the keras model\n",
    "model = Sequential()\n",
    "model.add(Dense(12, input_dim=8, activation='relu'))\n",
    "model.add(Dense(8, activation='relu'))\n",
    "model.add(Dense(1, activation='sigmoid'))\n"
   ]
  },
  {
   "cell_type": "code",
   "execution_count": 46,
   "metadata": {
    "scrolled": true
   },
   "outputs": [
    {
     "name": "stdout",
     "output_type": "stream",
     "text": [
      "Epoch 1/150\n",
      "77/77 [==============================] - 0s 1ms/step - loss: 0.4879 - accuracy: 0.7630\n",
      "Epoch 2/150\n",
      "77/77 [==============================] - 0s 1ms/step - loss: 0.4809 - accuracy: 0.7721\n",
      "Epoch 3/150\n",
      "77/77 [==============================] - 0s 1ms/step - loss: 0.4656 - accuracy: 0.7891\n",
      "Epoch 4/150\n",
      "77/77 [==============================] - 0s 1ms/step - loss: 0.5074 - accuracy: 0.7591\n",
      "Epoch 5/150\n",
      "77/77 [==============================] - 0s 2ms/step - loss: 0.4647 - accuracy: 0.7917\n",
      "Epoch 6/150\n",
      "77/77 [==============================] - 0s 1ms/step - loss: 0.4867 - accuracy: 0.7604\n",
      "Epoch 7/150\n",
      "77/77 [==============================] - 0s 1ms/step - loss: 0.4861 - accuracy: 0.7695\n",
      "Epoch 8/150\n",
      "77/77 [==============================] - 0s 1ms/step - loss: 0.4718 - accuracy: 0.7617\n",
      "Epoch 9/150\n",
      "77/77 [==============================] - 0s 1ms/step - loss: 0.4759 - accuracy: 0.7747\n",
      "Epoch 10/150\n",
      "77/77 [==============================] - 0s 1ms/step - loss: 0.4754 - accuracy: 0.7669\n",
      "Epoch 11/150\n",
      "77/77 [==============================] - 0s 1ms/step - loss: 0.4831 - accuracy: 0.7721\n",
      "Epoch 12/150\n",
      "77/77 [==============================] - 0s 1ms/step - loss: 0.5071 - accuracy: 0.7539\n",
      "Epoch 13/150\n",
      "77/77 [==============================] - 0s 1ms/step - loss: 0.4742 - accuracy: 0.7799\n",
      "Epoch 14/150\n",
      "77/77 [==============================] - 0s 1ms/step - loss: 0.4598 - accuracy: 0.7891\n",
      "Epoch 15/150\n",
      "77/77 [==============================] - 0s 1ms/step - loss: 0.4625 - accuracy: 0.7643\n",
      "Epoch 16/150\n",
      "77/77 [==============================] - 0s 1ms/step - loss: 0.4643 - accuracy: 0.7734\n",
      "Epoch 17/150\n",
      "77/77 [==============================] - 0s 1ms/step - loss: 0.4664 - accuracy: 0.7721\n",
      "Epoch 18/150\n",
      "77/77 [==============================] - 0s 1ms/step - loss: 0.4674 - accuracy: 0.7734\n",
      "Epoch 19/150\n",
      "77/77 [==============================] - 0s 1ms/step - loss: 0.4718 - accuracy: 0.7773\n",
      "Epoch 20/150\n",
      "77/77 [==============================] - 0s 1ms/step - loss: 0.4705 - accuracy: 0.7669\n",
      "Epoch 21/150\n",
      "77/77 [==============================] - 0s 1ms/step - loss: 0.4673 - accuracy: 0.7826\n",
      "Epoch 22/150\n",
      "77/77 [==============================] - 0s 1ms/step - loss: 0.4654 - accuracy: 0.7747\n",
      "Epoch 23/150\n",
      "77/77 [==============================] - 0s 1ms/step - loss: 0.4582 - accuracy: 0.7930\n",
      "Epoch 24/150\n",
      "77/77 [==============================] - 0s 1ms/step - loss: 0.4767 - accuracy: 0.7747\n",
      "Epoch 25/150\n",
      "77/77 [==============================] - 0s 1ms/step - loss: 0.4710 - accuracy: 0.7682\n",
      "Epoch 26/150\n",
      "77/77 [==============================] - 0s 1ms/step - loss: 0.4607 - accuracy: 0.7643\n",
      "Epoch 27/150\n",
      "77/77 [==============================] - 0s 1ms/step - loss: 0.4596 - accuracy: 0.7734\n",
      "Epoch 28/150\n",
      "77/77 [==============================] - 0s 1ms/step - loss: 0.4741 - accuracy: 0.7826\n",
      "Epoch 29/150\n",
      "77/77 [==============================] - 0s 1ms/step - loss: 0.4710 - accuracy: 0.7812\n",
      "Epoch 30/150\n",
      "77/77 [==============================] - 0s 1ms/step - loss: 0.4637 - accuracy: 0.7852\n",
      "Epoch 31/150\n",
      "77/77 [==============================] - 0s 1ms/step - loss: 0.4581 - accuracy: 0.7839\n",
      "Epoch 32/150\n",
      "77/77 [==============================] - 0s 1ms/step - loss: 0.4618 - accuracy: 0.7695\n",
      "Epoch 33/150\n",
      "77/77 [==============================] - 0s 1ms/step - loss: 0.4502 - accuracy: 0.7786\n",
      "Epoch 34/150\n",
      "77/77 [==============================] - 0s 1ms/step - loss: 0.4474 - accuracy: 0.7760\n",
      "Epoch 35/150\n",
      "77/77 [==============================] - 0s 2ms/step - loss: 0.4945 - accuracy: 0.7604\n",
      "Epoch 36/150\n",
      "77/77 [==============================] - 0s 1ms/step - loss: 0.4603 - accuracy: 0.7826\n",
      "Epoch 37/150\n",
      "77/77 [==============================] - 0s 1ms/step - loss: 0.4645 - accuracy: 0.7682\n",
      "Epoch 38/150\n",
      "77/77 [==============================] - 0s 1ms/step - loss: 0.4455 - accuracy: 0.7904\n",
      "Epoch 39/150\n",
      "77/77 [==============================] - 0s 1ms/step - loss: 0.4651 - accuracy: 0.7956\n",
      "Epoch 40/150\n",
      "77/77 [==============================] - 0s 1ms/step - loss: 0.4899 - accuracy: 0.7682\n",
      "Epoch 41/150\n",
      "77/77 [==============================] - 0s 1ms/step - loss: 0.4677 - accuracy: 0.7852\n",
      "Epoch 42/150\n",
      "77/77 [==============================] - 0s 1ms/step - loss: 0.4565 - accuracy: 0.7826\n",
      "Epoch 43/150\n",
      "77/77 [==============================] - 0s 1ms/step - loss: 0.4582 - accuracy: 0.7721\n",
      "Epoch 44/150\n",
      "77/77 [==============================] - 0s 1ms/step - loss: 0.4500 - accuracy: 0.7721\n",
      "Epoch 45/150\n",
      "77/77 [==============================] - 0s 1ms/step - loss: 0.4544 - accuracy: 0.7656\n",
      "Epoch 46/150\n",
      "77/77 [==============================] - 0s 1ms/step - loss: 0.4563 - accuracy: 0.7878\n",
      "Epoch 47/150\n",
      "77/77 [==============================] - 0s 1ms/step - loss: 0.4634 - accuracy: 0.7695\n",
      "Epoch 48/150\n",
      "77/77 [==============================] - 0s 1ms/step - loss: 0.4585 - accuracy: 0.7839\n",
      "Epoch 49/150\n",
      "77/77 [==============================] - 0s 1ms/step - loss: 0.4650 - accuracy: 0.7760\n",
      "Epoch 50/150\n",
      "77/77 [==============================] - 0s 1ms/step - loss: 0.4607 - accuracy: 0.7669\n",
      "Epoch 51/150\n",
      "77/77 [==============================] - 0s 1ms/step - loss: 0.4526 - accuracy: 0.7904\n",
      "Epoch 52/150\n",
      "77/77 [==============================] - 0s 1ms/step - loss: 0.4640 - accuracy: 0.7839\n",
      "Epoch 53/150\n",
      "77/77 [==============================] - 0s 1ms/step - loss: 0.4570 - accuracy: 0.8008\n",
      "Epoch 54/150\n",
      "77/77 [==============================] - 0s 1ms/step - loss: 0.4552 - accuracy: 0.7865\n",
      "Epoch 55/150\n",
      "77/77 [==============================] - 0s 1ms/step - loss: 0.4486 - accuracy: 0.7812\n",
      "Epoch 56/150\n",
      "77/77 [==============================] - 0s 1ms/step - loss: 0.4439 - accuracy: 0.7852\n",
      "Epoch 57/150\n",
      "77/77 [==============================] - 0s 1ms/step - loss: 0.4496 - accuracy: 0.7826\n",
      "Epoch 58/150\n",
      "77/77 [==============================] - 0s 1ms/step - loss: 0.4448 - accuracy: 0.7878\n",
      "Epoch 59/150\n",
      "77/77 [==============================] - 0s 1ms/step - loss: 0.4587 - accuracy: 0.7773\n",
      "Epoch 60/150\n",
      "77/77 [==============================] - 0s 1ms/step - loss: 0.4512 - accuracy: 0.7786\n",
      "Epoch 61/150\n",
      "77/77 [==============================] - 0s 1ms/step - loss: 0.4588 - accuracy: 0.7656\n",
      "Epoch 62/150\n",
      "77/77 [==============================] - 0s 1ms/step - loss: 0.4510 - accuracy: 0.7747\n",
      "Epoch 63/150\n",
      "77/77 [==============================] - 0s 1ms/step - loss: 0.4720 - accuracy: 0.7643\n",
      "Epoch 64/150\n",
      "77/77 [==============================] - 0s 1ms/step - loss: 0.4997 - accuracy: 0.7578\n",
      "Epoch 65/150\n",
      "77/77 [==============================] - 0s 1ms/step - loss: 0.4516 - accuracy: 0.7878\n",
      "Epoch 66/150\n",
      "77/77 [==============================] - 0s 1ms/step - loss: 0.4452 - accuracy: 0.7852\n",
      "Epoch 67/150\n",
      "77/77 [==============================] - 0s 1ms/step - loss: 0.4757 - accuracy: 0.7904\n",
      "Epoch 68/150\n",
      "77/77 [==============================] - 0s 1ms/step - loss: 0.4606 - accuracy: 0.7708\n",
      "Epoch 69/150\n",
      "77/77 [==============================] - 0s 2ms/step - loss: 0.4547 - accuracy: 0.7812\n",
      "Epoch 70/150\n",
      "77/77 [==============================] - 0s 1ms/step - loss: 0.4546 - accuracy: 0.7826\n",
      "Epoch 71/150\n",
      "77/77 [==============================] - 0s 1ms/step - loss: 0.4578 - accuracy: 0.7786\n",
      "Epoch 72/150\n",
      "77/77 [==============================] - 0s 2ms/step - loss: 0.4348 - accuracy: 0.7943\n",
      "Epoch 73/150\n",
      "77/77 [==============================] - 0s 2ms/step - loss: 0.4586 - accuracy: 0.7904\n",
      "Epoch 74/150\n",
      "77/77 [==============================] - 0s 1ms/step - loss: 0.4609 - accuracy: 0.7786\n",
      "Epoch 75/150\n",
      "77/77 [==============================] - 0s 1ms/step - loss: 0.4433 - accuracy: 0.7839\n",
      "Epoch 76/150\n",
      "77/77 [==============================] - 0s 1ms/step - loss: 0.4481 - accuracy: 0.7943\n",
      "Epoch 77/150\n",
      "77/77 [==============================] - 0s 1ms/step - loss: 0.4627 - accuracy: 0.7812\n",
      "Epoch 78/150\n",
      "77/77 [==============================] - 0s 1ms/step - loss: 0.4485 - accuracy: 0.7799\n",
      "Epoch 79/150\n",
      "77/77 [==============================] - 0s 1ms/step - loss: 0.4625 - accuracy: 0.7721\n",
      "Epoch 80/150\n",
      "77/77 [==============================] - 0s 1ms/step - loss: 0.4435 - accuracy: 0.7917\n",
      "Epoch 81/150\n",
      "77/77 [==============================] - 0s 1ms/step - loss: 0.4564 - accuracy: 0.7812\n",
      "Epoch 82/150\n",
      "77/77 [==============================] - 0s 1ms/step - loss: 0.4410 - accuracy: 0.7917\n",
      "Epoch 83/150\n"
     ]
    },
    {
     "name": "stdout",
     "output_type": "stream",
     "text": [
      "77/77 [==============================] - 0s 1ms/step - loss: 0.4349 - accuracy: 0.7904\n",
      "Epoch 84/150\n",
      "77/77 [==============================] - 0s 1ms/step - loss: 0.4344 - accuracy: 0.7995\n",
      "Epoch 85/150\n",
      "77/77 [==============================] - 0s 1ms/step - loss: 0.4510 - accuracy: 0.7786\n",
      "Epoch 86/150\n",
      "77/77 [==============================] - 0s 1ms/step - loss: 0.4434 - accuracy: 0.7799\n",
      "Epoch 87/150\n",
      "77/77 [==============================] - 0s 1ms/step - loss: 0.4403 - accuracy: 0.7904\n",
      "Epoch 88/150\n",
      "77/77 [==============================] - 0s 1ms/step - loss: 0.4370 - accuracy: 0.7786\n",
      "Epoch 89/150\n",
      "77/77 [==============================] - 0s 1ms/step - loss: 0.4401 - accuracy: 0.7956\n",
      "Epoch 90/150\n",
      "77/77 [==============================] - 0s 1ms/step - loss: 0.4503 - accuracy: 0.7826\n",
      "Epoch 91/150\n",
      "77/77 [==============================] - 0s 1ms/step - loss: 0.4516 - accuracy: 0.7773\n",
      "Epoch 92/150\n",
      "77/77 [==============================] - 0s 1ms/step - loss: 0.4639 - accuracy: 0.7839\n",
      "Epoch 93/150\n",
      "77/77 [==============================] - 0s 2ms/step - loss: 0.4470 - accuracy: 0.7839\n",
      "Epoch 94/150\n",
      "77/77 [==============================] - 0s 1ms/step - loss: 0.4481 - accuracy: 0.7839\n",
      "Epoch 95/150\n",
      "77/77 [==============================] - 0s 1000us/step - loss: 0.4439 - accuracy: 0.7852\n",
      "Epoch 96/150\n",
      "77/77 [==============================] - 0s 1ms/step - loss: 0.4509 - accuracy: 0.7812\n",
      "Epoch 97/150\n",
      "77/77 [==============================] - 0s 1ms/step - loss: 0.4385 - accuracy: 0.7956\n",
      "Epoch 98/150\n",
      "77/77 [==============================] - 0s 1ms/step - loss: 0.4403 - accuracy: 0.7786\n",
      "Epoch 99/150\n",
      "77/77 [==============================] - 0s 1ms/step - loss: 0.4470 - accuracy: 0.7826\n",
      "Epoch 100/150\n",
      "77/77 [==============================] - 0s 1ms/step - loss: 0.4383 - accuracy: 0.7878\n",
      "Epoch 101/150\n",
      "77/77 [==============================] - 0s 1ms/step - loss: 0.4363 - accuracy: 0.7865\n",
      "Epoch 102/150\n",
      "77/77 [==============================] - 0s 1ms/step - loss: 0.4351 - accuracy: 0.7852\n",
      "Epoch 103/150\n",
      "77/77 [==============================] - 0s 1ms/step - loss: 0.4394 - accuracy: 0.7930\n",
      "Epoch 104/150\n",
      "77/77 [==============================] - 0s 1ms/step - loss: 0.4420 - accuracy: 0.7982\n",
      "Epoch 105/150\n",
      "77/77 [==============================] - 0s 1ms/step - loss: 0.4468 - accuracy: 0.7812\n",
      "Epoch 106/150\n",
      "77/77 [==============================] - 0s 1ms/step - loss: 0.4486 - accuracy: 0.7995\n",
      "Epoch 107/150\n",
      "77/77 [==============================] - 0s 1ms/step - loss: 0.4454 - accuracy: 0.7878\n",
      "Epoch 108/150\n",
      "77/77 [==============================] - 0s 1ms/step - loss: 0.4640 - accuracy: 0.7682\n",
      "Epoch 109/150\n",
      "77/77 [==============================] - 0s 1ms/step - loss: 0.4305 - accuracy: 0.7904\n",
      "Epoch 110/150\n",
      "77/77 [==============================] - 0s 1ms/step - loss: 0.4500 - accuracy: 0.7826\n",
      "Epoch 111/150\n",
      "77/77 [==============================] - 0s 1ms/step - loss: 0.4490 - accuracy: 0.7747\n",
      "Epoch 112/150\n",
      "77/77 [==============================] - 0s 1ms/step - loss: 0.4387 - accuracy: 0.7943\n",
      "Epoch 113/150\n",
      "77/77 [==============================] - 0s 1ms/step - loss: 0.4465 - accuracy: 0.7865\n",
      "Epoch 114/150\n",
      "77/77 [==============================] - 0s 1ms/step - loss: 0.4412 - accuracy: 0.7904\n",
      "Epoch 115/150\n",
      "77/77 [==============================] - 0s 1ms/step - loss: 0.4395 - accuracy: 0.7799: 0s - loss: 0.4448 - accuracy: 0.\n",
      "Epoch 116/150\n",
      "77/77 [==============================] - 0s 1ms/step - loss: 0.4393 - accuracy: 0.7799\n",
      "Epoch 117/150\n",
      "77/77 [==============================] - 0s 2ms/step - loss: 0.4326 - accuracy: 0.7930\n",
      "Epoch 118/150\n",
      "77/77 [==============================] - 0s 2ms/step - loss: 0.4401 - accuracy: 0.7865\n",
      "Epoch 119/150\n",
      "77/77 [==============================] - 0s 1ms/step - loss: 0.4416 - accuracy: 0.7891\n",
      "Epoch 120/150\n",
      "77/77 [==============================] - 0s 2ms/step - loss: 0.4331 - accuracy: 0.7786\n",
      "Epoch 121/150\n",
      "77/77 [==============================] - 0s 2ms/step - loss: 0.4315 - accuracy: 0.7917\n",
      "Epoch 122/150\n",
      "77/77 [==============================] - 0s 2ms/step - loss: 0.4349 - accuracy: 0.7812\n",
      "Epoch 123/150\n",
      "77/77 [==============================] - 0s 2ms/step - loss: 0.4340 - accuracy: 0.7891\n",
      "Epoch 124/150\n",
      "77/77 [==============================] - 0s 986us/step - loss: 0.4469 - accuracy: 0.7839\n",
      "Epoch 125/150\n",
      "77/77 [==============================] - 0s 1ms/step - loss: 0.4415 - accuracy: 0.7878\n",
      "Epoch 126/150\n",
      "77/77 [==============================] - 0s 1ms/step - loss: 0.4613 - accuracy: 0.7812\n",
      "Epoch 127/150\n",
      "77/77 [==============================] - 0s 1ms/step - loss: 0.4332 - accuracy: 0.7982\n",
      "Epoch 128/150\n",
      "77/77 [==============================] - 0s 1ms/step - loss: 0.4334 - accuracy: 0.7969\n",
      "Epoch 129/150\n",
      "77/77 [==============================] - 0s 1ms/step - loss: 0.4449 - accuracy: 0.7956\n",
      "Epoch 130/150\n",
      "77/77 [==============================] - 0s 1ms/step - loss: 0.4406 - accuracy: 0.7839\n",
      "Epoch 131/150\n",
      "77/77 [==============================] - 0s 1ms/step - loss: 0.4346 - accuracy: 0.7956\n",
      "Epoch 132/150\n",
      "77/77 [==============================] - 0s 2ms/step - loss: 0.4426 - accuracy: 0.7956\n",
      "Epoch 133/150\n",
      "77/77 [==============================] - 0s 2ms/step - loss: 0.4350 - accuracy: 0.7956\n",
      "Epoch 134/150\n",
      "77/77 [==============================] - 0s 2ms/step - loss: 0.4429 - accuracy: 0.7839\n",
      "Epoch 135/150\n",
      "77/77 [==============================] - 0s 1ms/step - loss: 0.4290 - accuracy: 0.7878\n",
      "Epoch 136/150\n",
      "77/77 [==============================] - 0s 2ms/step - loss: 0.4339 - accuracy: 0.7878\n",
      "Epoch 137/150\n",
      "77/77 [==============================] - 0s 2ms/step - loss: 0.4447 - accuracy: 0.7812\n",
      "Epoch 138/150\n",
      "77/77 [==============================] - 0s 2ms/step - loss: 0.4424 - accuracy: 0.7930\n",
      "Epoch 139/150\n",
      "77/77 [==============================] - 0s 2ms/step - loss: 0.4305 - accuracy: 0.7930\n",
      "Epoch 140/150\n",
      "77/77 [==============================] - 0s 2ms/step - loss: 0.4339 - accuracy: 0.7956\n",
      "Epoch 141/150\n",
      "77/77 [==============================] - 0s 2ms/step - loss: 0.4419 - accuracy: 0.7891\n",
      "Epoch 142/150\n",
      "77/77 [==============================] - 0s 1ms/step - loss: 0.4255 - accuracy: 0.7995\n",
      "Epoch 143/150\n",
      "77/77 [==============================] - 0s 2ms/step - loss: 0.4316 - accuracy: 0.7839\n",
      "Epoch 144/150\n",
      "77/77 [==============================] - 0s 1ms/step - loss: 0.4426 - accuracy: 0.7904\n",
      "Epoch 145/150\n",
      "77/77 [==============================] - 0s 960us/step - loss: 0.4327 - accuracy: 0.7930\n",
      "Epoch 146/150\n",
      "77/77 [==============================] - 0s 1ms/step - loss: 0.4378 - accuracy: 0.7917\n",
      "Epoch 147/150\n",
      "77/77 [==============================] - 0s 1ms/step - loss: 0.4839 - accuracy: 0.7695\n",
      "Epoch 148/150\n",
      "77/77 [==============================] - 0s 896us/step - loss: 0.4296 - accuracy: 0.7930\n",
      "Epoch 149/150\n",
      "77/77 [==============================] - 0s 1ms/step - loss: 0.4259 - accuracy: 0.7943\n",
      "Epoch 150/150\n",
      "77/77 [==============================] - 0s 2ms/step - loss: 0.4406 - accuracy: 0.7891\n"
     ]
    },
    {
     "data": {
      "text/plain": [
       "<tensorflow.python.keras.callbacks.History at 0x200b4107788>"
      ]
     },
     "execution_count": 46,
     "metadata": {},
     "output_type": "execute_result"
    }
   ],
   "source": [
    "# compile the keras model\n",
    "model.compile(loss='binary_crossentropy', optimizer='adam', metrics=['accuracy'])\n",
    "# fit the keras model on the dataset\n",
    "model.fit(X, y, epochs=150, batch_size=10)"
   ]
  },
  {
   "cell_type": "code",
   "execution_count": 47,
   "metadata": {
    "scrolled": true
   },
   "outputs": [
    {
     "name": "stdout",
     "output_type": "stream",
     "text": [
      "24/24 [==============================] - 0s 1ms/step - loss: 0.4085 - accuracy: 0.8008\n",
      "Accuracy: 80.08\n"
     ]
    }
   ],
   "source": [
    "# evaluate the keras model\n",
    "_, accuracy = model.evaluate(X, y)\n",
    "print('Accuracy: %.2f' % (accuracy*100))"
   ]
  },
  {
   "cell_type": "markdown",
   "metadata": {},
   "source": [
    "## 6. Predictions \n",
    "\n",
    "We can adapt the above example and use it to generate predictions on the training dataset, pretending it is a new dataset we have not seen before.\n",
    "\n",
    "Making predictions is as easy as calling the predict() function on the model. We are using a sigmoid activation function on the output layer, so the predictions will be a probability in the range between 0 and 1. We can easily convert them into a crisp binary prediction for this classification task by rounding them."
   ]
  },
  {
   "cell_type": "code",
   "execution_count": 48,
   "metadata": {},
   "outputs": [],
   "source": [
    "\n",
    "# make probability predictions with the model\n",
    "predictions = model.predict(X)\n",
    "# round predictions \n",
    "rounded = [round(x[0]) for x in predictions]\n",
    "\n",
    "# make probability predictions with the model\n",
    "predictions = model.predict(X)\n",
    "# round predictions \n",
    "rounded = [round(x[0]) for x in predictions]"
   ]
  },
  {
   "cell_type": "markdown",
   "metadata": {},
   "source": [
    "Alternately, we can call the predict_classes() function on the model to predict crisp classes directly, for example:"
   ]
  },
  {
   "cell_type": "code",
   "execution_count": 52,
   "metadata": {},
   "outputs": [],
   "source": [
    "# make class predictions with the model\n",
    "predictions = model.predict_classes(X)"
   ]
  },
  {
   "cell_type": "markdown",
   "metadata": {},
   "source": [
    "## Example 2 \n",
    "Mushroom classification using neural networks"
   ]
  },
  {
   "cell_type": "markdown",
   "metadata": {},
   "source": [
    "## Example 3 \n",
    "Iris dataset classification using neural networks"
   ]
  },
  {
   "cell_type": "code",
   "execution_count": 53,
   "metadata": {},
   "outputs": [
    {
     "data": {
      "text/html": [
       "<div>\n",
       "<style scoped>\n",
       "    .dataframe tbody tr th:only-of-type {\n",
       "        vertical-align: middle;\n",
       "    }\n",
       "\n",
       "    .dataframe tbody tr th {\n",
       "        vertical-align: top;\n",
       "    }\n",
       "\n",
       "    .dataframe thead th {\n",
       "        text-align: right;\n",
       "    }\n",
       "</style>\n",
       "<table border=\"1\" class=\"dataframe\">\n",
       "  <thead>\n",
       "    <tr style=\"text-align: right;\">\n",
       "      <th></th>\n",
       "      <th>sepal length (cm)</th>\n",
       "      <th>sepal width (cm)</th>\n",
       "      <th>petal length (cm)</th>\n",
       "      <th>petal width (cm)</th>\n",
       "    </tr>\n",
       "  </thead>\n",
       "  <tbody>\n",
       "    <tr>\n",
       "      <th>0</th>\n",
       "      <td>5.1</td>\n",
       "      <td>3.5</td>\n",
       "      <td>1.4</td>\n",
       "      <td>0.2</td>\n",
       "    </tr>\n",
       "    <tr>\n",
       "      <th>1</th>\n",
       "      <td>4.9</td>\n",
       "      <td>3.0</td>\n",
       "      <td>1.4</td>\n",
       "      <td>0.2</td>\n",
       "    </tr>\n",
       "    <tr>\n",
       "      <th>2</th>\n",
       "      <td>4.7</td>\n",
       "      <td>3.2</td>\n",
       "      <td>1.3</td>\n",
       "      <td>0.2</td>\n",
       "    </tr>\n",
       "    <tr>\n",
       "      <th>3</th>\n",
       "      <td>4.6</td>\n",
       "      <td>3.1</td>\n",
       "      <td>1.5</td>\n",
       "      <td>0.2</td>\n",
       "    </tr>\n",
       "    <tr>\n",
       "      <th>4</th>\n",
       "      <td>5.0</td>\n",
       "      <td>3.6</td>\n",
       "      <td>1.4</td>\n",
       "      <td>0.2</td>\n",
       "    </tr>\n",
       "  </tbody>\n",
       "</table>\n",
       "</div>"
      ],
      "text/plain": [
       "   sepal length (cm)  sepal width (cm)  petal length (cm)  petal width (cm)\n",
       "0                5.1               3.5                1.4               0.2\n",
       "1                4.9               3.0                1.4               0.2\n",
       "2                4.7               3.2                1.3               0.2\n",
       "3                4.6               3.1                1.5               0.2\n",
       "4                5.0               3.6                1.4               0.2"
      ]
     },
     "execution_count": 53,
     "metadata": {},
     "output_type": "execute_result"
    }
   ],
   "source": [
    "import pandas as pd\n",
    "import sklearn\n",
    "from sklearn.datasets import load_iris\n",
    "data = load_iris()\n",
    "df = pd.DataFrame(data.data, columns=data.feature_names) \n",
    "df.head() "
   ]
  },
  {
   "cell_type": "code",
   "execution_count": 55,
   "metadata": {},
   "outputs": [],
   "source": [
    "X = df\n",
    "y = data.target\n",
    "from sklearn.model_selection import train_test_split\n",
    "X_train, X_test, y_train, y_test = train_test_split(X,y, test_size = 0.2, random_state = 45)"
   ]
  },
  {
   "cell_type": "code",
   "execution_count": 56,
   "metadata": {},
   "outputs": [],
   "source": [
    "model = Sequential()\n",
    "model.add(Dense(1000, input_dim=4, activation='relu'))\n",
    "model.add(Dense(1000, activation='relu'))\n",
    "model.add(Dense(3, activation='sigmoid'))"
   ]
  },
  {
   "cell_type": "code",
   "execution_count": 57,
   "metadata": {},
   "outputs": [
    {
     "name": "stdout",
     "output_type": "stream",
     "text": [
      "Model: \"sequential_1\"\n",
      "_________________________________________________________________\n",
      "Layer (type)                 Output Shape              Param #   \n",
      "=================================================================\n",
      "dense_3 (Dense)              (None, 1000)              5000      \n",
      "_________________________________________________________________\n",
      "dense_4 (Dense)              (None, 1000)              1001000   \n",
      "_________________________________________________________________\n",
      "dense_5 (Dense)              (None, 3)                 3003      \n",
      "=================================================================\n",
      "Total params: 1,009,003\n",
      "Trainable params: 1,009,003\n",
      "Non-trainable params: 0\n",
      "_________________________________________________________________\n"
     ]
    }
   ],
   "source": [
    "model.summary()"
   ]
  },
  {
   "cell_type": "code",
   "execution_count": 64,
   "metadata": {},
   "outputs": [],
   "source": [
    "# compiling the model\n",
    "model.compile(loss='sparse_categorical_crossentropy', optimizer='adam', \n",
    "              metrics=['accuracy'])"
   ]
  },
  {
   "cell_type": "code",
   "execution_count": 65,
   "metadata": {},
   "outputs": [
    {
     "name": "stdout",
     "output_type": "stream",
     "text": [
      "Epoch 1/8\n",
      "4/4 [==============================] - 0s 50ms/step - loss: 0.9567 - accuracy: 0.5250 - val_loss: 0.6502 - val_accuracy: 0.7667\n",
      "Epoch 2/8\n",
      "4/4 [==============================] - 0s 18ms/step - loss: 0.5939 - accuracy: 0.7500 - val_loss: 0.5875 - val_accuracy: 0.6000\n",
      "Epoch 3/8\n",
      "4/4 [==============================] - 0s 18ms/step - loss: 0.4647 - accuracy: 0.7583 - val_loss: 0.3148 - val_accuracy: 0.9667\n",
      "Epoch 4/8\n",
      "4/4 [==============================] - 0s 25ms/step - loss: 0.4357 - accuracy: 0.7667 - val_loss: 0.2671 - val_accuracy: 0.9000\n",
      "Epoch 5/8\n",
      "4/4 [==============================] - 0s 18ms/step - loss: 0.3460 - accuracy: 0.8167 - val_loss: 0.2713 - val_accuracy: 0.9000\n",
      "Epoch 6/8\n",
      "4/4 [==============================] - 0s 17ms/step - loss: 0.2539 - accuracy: 0.9000 - val_loss: 0.2078 - val_accuracy: 0.9667\n",
      "Epoch 7/8\n",
      "4/4 [==============================] - 0s 18ms/step - loss: 0.2070 - accuracy: 0.9667 - val_loss: 0.1903 - val_accuracy: 0.9667\n",
      "Epoch 8/8\n",
      "4/4 [==============================] - 0s 24ms/step - loss: 0.1782 - accuracy: 0.9667 - val_loss: 0.1844 - val_accuracy: 0.9000\n"
     ]
    },
    {
     "data": {
      "text/plain": [
       "<tensorflow.python.keras.callbacks.History at 0x200b55386c8>"
      ]
     },
     "execution_count": 65,
     "metadata": {},
     "output_type": "execute_result"
    }
   ],
   "source": [
    "model.fit(X_train, y_train, validation_data=(X_test, y_test), epochs = 8)"
   ]
  },
  {
   "cell_type": "code",
   "execution_count": 34,
   "metadata": {},
   "outputs": [],
   "source": [
    "\n"
   ]
  },
  {
   "cell_type": "markdown",
   "metadata": {},
   "source": [
    "Now, let us, deep-dive, into the top 10 deep learning algorithms."
   ]
  },
  {
   "cell_type": "markdown",
   "metadata": {},
   "source": [
    "## Types of neural networks\n",
    "\n",
    "There are different kinds of deep neural networks – and each has advantages and disadvantages, depending upon the use. Examples include"
   ]
  },
  {
   "cell_type": "code",
   "execution_count": null,
   "metadata": {},
   "outputs": [],
   "source": []
  },
  {
   "cell_type": "markdown",
   "metadata": {},
   "source": []
  },
  {
   "cell_type": "markdown",
   "metadata": {},
   "source": [
    "## Refferences"
   ]
  },
  {
   "cell_type": "markdown",
   "metadata": {},
   "source": [
    "1. https://www.sas.com/en_za/insights/analytics/neural-networks.html#:~:text=What%20they%20are%20and%20why,time%20%E2%80%93%20continuously%20learn%20and%20improve.\n",
    "\n",
    "2. https://dzone.com/articles/comparison-between-deep-learning-vs-machine-learni\n",
    "3. https://www.zendesk.com/blog/machine-learning-and-deep-learning/#:~:text=To%20recap%20the%20differences%20between,intelligent%20decisions%20on%20its%20own\n",
    "4. https://machinelearningmastery.com/what-is-deep-learning/\n",
    "5. https://www.simplilearn.com/tutorials/deep-learning-tutorial/deep-learning-algorithm#:~:text=Deep%20learning%20uses%20artificial%20neural,machines%20by%20learning%20from%20examples.\n",
    "\n",
    "6. https://towardsdatascience.com/first-neural-network-for-beginners-explained-with-code-4cfd37e06eaf\n",
    "7. https://machinelearningmastery.com/tutorial-first-neural-network-python-keras/\n",
    "\n",
    "8. https://machinelearningmastery.com/tutorial-first-neural-network-python-keras/"
   ]
  },
  {
   "cell_type": "code",
   "execution_count": null,
   "metadata": {},
   "outputs": [],
   "source": []
  }
 ],
 "metadata": {
  "kernelspec": {
   "display_name": "Python 3",
   "language": "python",
   "name": "python3"
  },
  "language_info": {
   "codemirror_mode": {
    "name": "ipython",
    "version": 3
   },
   "file_extension": ".py",
   "mimetype": "text/x-python",
   "name": "python",
   "nbconvert_exporter": "python",
   "pygments_lexer": "ipython3",
   "version": "3.7.6"
  }
 },
 "nbformat": 4,
 "nbformat_minor": 4
}
